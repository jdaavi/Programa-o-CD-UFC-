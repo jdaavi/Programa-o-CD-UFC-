{
  "nbformat": 4,
  "nbformat_minor": 0,
  "metadata": {
    "colab": {
      "provenance": [],
      "authorship_tag": "ABX9TyOEJ6mCw2CGzic3ERfLmwzB",
      "include_colab_link": true
    },
    "kernelspec": {
      "name": "python3",
      "display_name": "Python 3"
    },
    "language_info": {
      "name": "python"
    }
  },
  "cells": [
    {
      "cell_type": "markdown",
      "metadata": {
        "id": "view-in-github",
        "colab_type": "text"
      },
      "source": [
        "<a href=\"https://colab.research.google.com/github/jdaavi/Programa-o-CD-UFC-/blob/main/Atividade_01_Fundamento_de_Programa%C3%A7%C3%A3o.ipynb\" target=\"_parent\"><img src=\"https://colab.research.google.com/assets/colab-badge.svg\" alt=\"Open In Colab\"/></a>"
      ]
    },
    {
      "cell_type": "code",
      "execution_count": null,
      "metadata": {
        "colab": {
          "base_uri": "https://localhost:8080/"
        },
        "id": "IfzvdYzgyR8p",
        "outputId": "bd4de56f-017b-4155-9adc-164f9b7d0c4b"
      },
      "outputs": [
        {
          "output_type": "stream",
          "name": "stdout",
          "text": [
            "20.8\n",
            "<class 'str'>\n",
            "<class 'float'>\n"
          ]
        }
      ],
      "source": [
        "#Questão 1\n",
        "\n",
        "aluno = \"João\"\n",
        "nota1 = 8.5\n",
        "nota2 = 9.8\n",
        "nota3 = 7.5\n",
        "média = (nota1 + nota2 + nota3/3)\n",
        "\n",
        "#Exibição da variável média\n",
        "print(média)\n",
        "#Exibição do tipo da variável aluno\n",
        "print(type(aluno))\n",
        "#Exibição do tipo da variável média\n",
        "print(type(média))\n"
      ]
    },
    {
      "cell_type": "code",
      "source": [
        "# Questão 2\n",
        "\n",
        "Nome = \"João\"\n",
        "Sobrenome = \"Davi\"\n",
        "Nome_Completo = (Nome + Sobrenome)\n",
        "\n",
        "#Print do Nome compelto\n",
        "print(Nome_Completo)"
      ],
      "metadata": {
        "colab": {
          "base_uri": "https://localhost:8080/"
        },
        "id": "Nbj6StuO06Va",
        "outputId": "a53fca1f-1bfc-47d0-83ec-39a82bb38c03"
      },
      "execution_count": null,
      "outputs": [
        {
          "output_type": "stream",
          "name": "stdout",
          "text": [
            "JoãoDavi\n"
          ]
        }
      ]
    },
    {
      "cell_type": "code",
      "source": [
        "# Questão 3 \n",
        "\n",
        "Lista_de_alimentos = [\"arroz\",\"feijão\",\"batata\",\"farofa\",\"frango\",\"carne\",\"suco\",\"banana\",\"macaxeira\",\"peixe\"]\n",
        "#item a\n",
        "print(Lista_de_alimentos[-1])\n",
        "#item b\n",
        "print(Lista_de_alimentos[3])\n",
        "#item c\n",
        "print(Lista_de_alimentos[:5])\n",
        "#item d\n",
        "print(Lista_de_alimentos[7:])\n",
        "#item e\n",
        "print(Lista_de_alimentos[2:7])\n"
      ],
      "metadata": {
        "colab": {
          "base_uri": "https://localhost:8080/"
        },
        "id": "aSM6XIFD1jP3",
        "outputId": "3d9da375-dc65-4683-c67b-697ba78efe72"
      },
      "execution_count": null,
      "outputs": [
        {
          "output_type": "stream",
          "name": "stdout",
          "text": [
            "peixe\n",
            "farofa\n",
            "['arroz', 'feijão', 'batata', 'farofa', 'frango']\n",
            "['banana', 'macaxeira', 'peixe']\n",
            "['batata', 'farofa', 'frango', 'carne', 'suco']\n"
          ]
        }
      ]
    },
    {
      "cell_type": "code",
      "source": [
        "# Questão 4\n",
        "\n",
        "Lista_de_alimentos = [\"arroz\",4.8,\"feijão\",5.5,\"batata\",3.8,\"farofa\",4.7,\"frango\",6.8,\"carne\",12.3,\"suco\",1.8,\"banana\",1.2,\"macaxeira\",1.3,\"peixe\",7.5]\n",
        "\n",
        " #item a / b\n",
        "Gasto_total =({4.8+5.5+3.8+4.7+6.8+12.3+1.8+1.2+1.3+7.5})\n",
        "print(Gasto_total)\n",
        "#item c / d\n",
        "alimentos_mais_caros =[Lista_de_alimentos[11]+Lista_de_alimentos[-1]+Lista_de_alimentos[9]]\n",
        "print(alimentos_mais_caros)"
      ],
      "metadata": {
        "id": "RTEZDlLA7Ilj",
        "colab": {
          "base_uri": "https://localhost:8080/"
        },
        "outputId": "df93cb34-b81d-45d0-dd71-93949424ca31"
      },
      "execution_count": null,
      "outputs": [
        {
          "output_type": "stream",
          "name": "stdout",
          "text": [
            "{49.7}\n",
            "[26.6]\n"
          ]
        }
      ]
    },
    {
      "cell_type": "code",
      "source": [
        "# Questão 5\n",
        "\n",
        "Lista_de_alimentos_adaptada = [[\"arroz\",4.8],[\"feijão\",5.5],[\"batata\",3.8],[\"farofa\",4.7],[\"frango\",6.8],[\"carne\",12.3],[\"suco\",1.8],[\"banana\",1.2],[\"macaxeira\",1.3],[\"peixe\",7.5]]\n",
        "#item a\n",
        "lista3 =(Lista_de_alimentos_adaptada[2])\n",
        "#item b\n",
        "print(lista3)\n",
        "#item c\n",
        "lista2a4 = (Lista_de_alimentos_adaptada[1:4])\n",
        "print(lista2a4)\n",
        "#item d1\n",
        "Lista_de_alimentos_adaptada[2][1]\n",
        "#item d2\n",
        "Lista_de_alimentos_adaptada[3][0]\n",
        "#item d3\n",
        "Lista_de_alimentos_adaptada[4][1]\n",
        "#item d4\n",
        "Lista_de_alimentos_adaptada[0][0]\n",
        "\n"
      ],
      "metadata": {
        "id": "n0MvAKl-PmoM",
        "colab": {
          "base_uri": "https://localhost:8080/",
          "height": 70
        },
        "outputId": "d64ff589-c892-424f-f04d-d2d1a97f56c4"
      },
      "execution_count": 13,
      "outputs": [
        {
          "output_type": "stream",
          "name": "stdout",
          "text": [
            "['batata', 3.8]\n",
            "[['feijão', 5.5], ['batata', 3.8], ['farofa', 4.7]]\n"
          ]
        },
        {
          "output_type": "execute_result",
          "data": {
            "text/plain": [
              "'arroz'"
            ],
            "application/vnd.google.colaboratory.intrinsic+json": {
              "type": "string"
            }
          },
          "metadata": {},
          "execution_count": 13
        }
      ]
    }
  ]
}