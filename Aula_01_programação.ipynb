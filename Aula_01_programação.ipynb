{
  "nbformat": 4,
  "nbformat_minor": 0,
  "metadata": {
    "colab": {
      "provenance": [],
      "authorship_tag": "ABX9TyNHkxVqDAhKtfMOmwn3D4MG",
      "include_colab_link": true
    },
    "kernelspec": {
      "name": "python3",
      "display_name": "Python 3"
    },
    "language_info": {
      "name": "python"
    }
  },
  "cells": [
    {
      "cell_type": "markdown",
      "metadata": {
        "id": "view-in-github",
        "colab_type": "text"
      },
      "source": [
        "<a href=\"https://colab.research.google.com/github/jdaavi/Programa-o-CD-UFC-/blob/main/Aula_01_programa%C3%A7%C3%A3o.ipynb\" target=\"_parent\"><img src=\"https://colab.research.google.com/assets/colab-badge.svg\" alt=\"Open In Colab\"/></a>"
      ]
    },
    {
      "cell_type": "code",
      "execution_count": 1,
      "metadata": {
        "colab": {
          "base_uri": "https://localhost:8080/"
        },
        "id": "YQocRdS8YB1N",
        "outputId": "9917baca-1b57-4520-c042-b3f7f2146b09"
      },
      "outputs": [
        {
          "output_type": "execute_result",
          "data": {
            "text/plain": [
              "1.79"
            ]
          },
          "metadata": {},
          "execution_count": 1
        }
      ],
      "source": [
        "#Variável e valores \n",
        "height = 1.79\n",
        "weigth = 68.7\n",
        "\n",
        "height"
      ]
    },
    {
      "cell_type": "code",
      "source": [
        "#Operações Básicas\n",
        "print(68.7 / 1.79 ** 2)\n",
        "print(5+10)\n",
        "print(3//2)\n",
        "print(5/2)\n",
        "print(10*2)\n",
        "print(5%3)"
      ],
      "metadata": {
        "colab": {
          "base_uri": "https://localhost:8080/"
        },
        "id": "LszWtHkpabd7",
        "outputId": "a2866a33-2b3f-4715-f964-6895ca7292a0"
      },
      "execution_count": 14,
      "outputs": [
        {
          "output_type": "stream",
          "name": "stdout",
          "text": [
            "21.44127836209856\n",
            "15\n",
            "1\n",
            "2.5\n",
            "20\n",
            "2\n"
          ]
        }
      ]
    },
    {
      "cell_type": "code",
      "source": [
        "#Montando fórmulas\n",
        "bmi = weigth / height **2\n",
        "bmi"
      ],
      "metadata": {
        "colab": {
          "base_uri": "https://localhost:8080/"
        },
        "id": "b5Zlm02lbK4C",
        "outputId": "f2aaea53-67bb-4f74-bc1e-a3bdf59f5175"
      },
      "execution_count": 4,
      "outputs": [
        {
          "output_type": "execute_result",
          "data": {
            "text/plain": [
              "21.44127836209856"
            ]
          },
          "metadata": {},
          "execution_count": 4
        }
      ]
    },
    {
      "cell_type": "code",
      "source": [
        "#Tipos de valores\n",
        "a = \"Davi\"\n",
        "b = 10\n",
        "c = 14.5\n",
        "d = True\n",
        "\n",
        "#Utilizando a função type e print para checar os tipos de valores\n",
        "print(type(a))\n",
        "\n",
        "print(type(b))\n",
        "\n",
        "print(type(c))\n",
        "\n",
        "print(type(d))\n"
      ],
      "metadata": {
        "colab": {
          "base_uri": "https://localhost:8080/"
        },
        "id": "PdYEI01tcLz1",
        "outputId": "9fa43208-eef5-470d-992d-c12f4d319b74"
      },
      "execution_count": 10,
      "outputs": [
        {
          "output_type": "stream",
          "name": "stdout",
          "text": [
            "<class 'str'>\n",
            "<class 'int'>\n",
            "<class 'float'>\n",
            "<class 'bool'>\n"
          ]
        }
      ]
    },
    {
      "cell_type": "code",
      "source": [
        "#Concatenando strings\n",
        "a = \"Joao\"\n",
        "b = \"Davi\"\n",
        "\n",
        "print(a+b)\n"
      ],
      "metadata": {
        "colab": {
          "base_uri": "https://localhost:8080/"
        },
        "id": "8VULfOPKdthz",
        "outputId": "d7125602-86ab-45f9-f63d-5822bb7cde89"
      },
      "execution_count": 11,
      "outputs": [
        {
          "output_type": "stream",
          "name": "stdout",
          "text": [
            "JoaoDavi\n"
          ]
        }
      ]
    },
    {
      "cell_type": "code",
      "source": [
        "#Fórmula de porcentagem (aumento de 10%)\n",
        "salário = 500\n",
        "ganho = (500 + 500*10/100)\n",
        "print(ganho)\n",
        "\n",
        "#ganhos depois de 7 meses (aumento de 11%)\n",
        "salário = 500\n",
        "aumento = 11/100\n",
        "tempo = 7\n",
        "\n",
        "novo_ganho = (salário + salário*aumento)**tempo\n",
        "print(novo_ganho)"
      ],
      "metadata": {
        "colab": {
          "base_uri": "https://localhost:8080/"
        },
        "id": "D8d_v7BsezvO",
        "outputId": "eb84ae86-2d32-41c9-a3b1-d28fdba454eb"
      },
      "execution_count": 16,
      "outputs": [
        {
          "output_type": "stream",
          "name": "stdout",
          "text": [
            "550.0\n",
            "1.6220001194521172e+19\n"
          ]
        }
      ]
    },
    {
      "cell_type": "code",
      "source": [
        "#concatenando desc\n",
        "desc = \"compound interest\"\n",
        "print(desc + desc)\n"
      ],
      "metadata": {
        "colab": {
          "base_uri": "https://localhost:8080/"
        },
        "id": "wY1GtI4egVJ6",
        "outputId": "7c845e6c-0e4a-475c-dc96-8c88a6eaa77d"
      },
      "execution_count": 17,
      "outputs": [
        {
          "output_type": "stream",
          "name": "stdout",
          "text": [
            "compound interestcompound interest\n"
          ]
        }
      ]
    },
    {
      "cell_type": "code",
      "source": [
        "#Impossibilidade de concatenar String e Int ou Float\n",
        "savings = 100\n",
        "result = 100*1.10**7\n",
        "\n",
        "print(\"I started with $\" + savings + \"and now have\" + result)\n"
      ],
      "metadata": {
        "colab": {
          "base_uri": "https://localhost:8080/",
          "height": 200
        },
        "id": "gr2T68o_hh1X",
        "outputId": "3fb75f11-53ae-4fdd-dbd0-2ad0d004838a"
      },
      "execution_count": 18,
      "outputs": [
        {
          "output_type": "error",
          "ename": "TypeError",
          "evalue": "ignored",
          "traceback": [
            "\u001b[0;31m---------------------------------------------------------------------------\u001b[0m",
            "\u001b[0;31mTypeError\u001b[0m                                 Traceback (most recent call last)",
            "\u001b[0;32m<ipython-input-18-bba795ff7d09>\u001b[0m in \u001b[0;36m<cell line: 5>\u001b[0;34m()\u001b[0m\n\u001b[1;32m      3\u001b[0m \u001b[0mresult\u001b[0m \u001b[0;34m=\u001b[0m \u001b[0;36m100\u001b[0m\u001b[0;34m*\u001b[0m\u001b[0;36m1.10\u001b[0m\u001b[0;34m**\u001b[0m\u001b[0;36m7\u001b[0m\u001b[0;34m\u001b[0m\u001b[0;34m\u001b[0m\u001b[0m\n\u001b[1;32m      4\u001b[0m \u001b[0;34m\u001b[0m\u001b[0m\n\u001b[0;32m----> 5\u001b[0;31m \u001b[0mprint\u001b[0m\u001b[0;34m(\u001b[0m\u001b[0;34m\"I started with $\"\u001b[0m \u001b[0;34m+\u001b[0m \u001b[0msavings\u001b[0m \u001b[0;34m+\u001b[0m \u001b[0;34m\"and now have\"\u001b[0m \u001b[0;34m+\u001b[0m \u001b[0mresult\u001b[0m\u001b[0;34m)\u001b[0m\u001b[0;34m\u001b[0m\u001b[0;34m\u001b[0m\u001b[0m\n\u001b[0m",
            "\u001b[0;31mTypeError\u001b[0m: can only concatenate str (not \"int\") to str"
          ]
        }
      ]
    },
    {
      "cell_type": "code",
      "source": [
        "#Corrigindo valores das variaveis\n",
        "savings = 100\n",
        "str(savings)\n"
      ],
      "metadata": {
        "colab": {
          "base_uri": "https://localhost:8080/",
          "height": 35
        },
        "id": "YOTGKiUAiHIQ",
        "outputId": "392ae2c7-f539-451f-e647-9e225239d623"
      },
      "execution_count": 23,
      "outputs": [
        {
          "output_type": "execute_result",
          "data": {
            "text/plain": [
              "'100'"
            ],
            "application/vnd.google.colaboratory.intrinsic+json": {
              "type": "string"
            }
          },
          "metadata": {},
          "execution_count": 23
        }
      ]
    },
    {
      "cell_type": "code",
      "source": [
        "#Correção da concatenação\n",
        "savings = 100\n",
        "result = 100*1.10**7\n",
        "print(\"I started with $\" + str(savings) + \"and now have\" + str(result))\n"
      ],
      "metadata": {
        "colab": {
          "base_uri": "https://localhost:8080/"
        },
        "id": "ygdlbZ-mjkgy",
        "outputId": "57095ca2-9e48-47ee-c171-2979c8708ce1"
      },
      "execution_count": 24,
      "outputs": [
        {
          "output_type": "stream",
          "name": "stdout",
          "text": [
            "I started with $100and now have194.87171000000012\n"
          ]
        }
      ]
    }
  ]
}