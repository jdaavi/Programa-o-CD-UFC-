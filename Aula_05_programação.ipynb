{
  "nbformat": 4,
  "nbformat_minor": 0,
  "metadata": {
    "colab": {
      "provenance": [],
      "authorship_tag": "ABX9TyO8mk3ynfAXEGPmujKrwb2p",
      "include_colab_link": true
    },
    "kernelspec": {
      "name": "python3",
      "display_name": "Python 3"
    },
    "language_info": {
      "name": "python"
    }
  },
  "cells": [
    {
      "cell_type": "markdown",
      "metadata": {
        "id": "view-in-github",
        "colab_type": "text"
      },
      "source": [
        "<a href=\"https://colab.research.google.com/github/jdaavi/Programa-o-CD-UFC-/blob/main/Aula_05_programa%C3%A7%C3%A3o.ipynb\" target=\"_parent\"><img src=\"https://colab.research.google.com/assets/colab-badge.svg\" alt=\"Open In Colab\"/></a>"
      ]
    },
    {
      "cell_type": "code",
      "execution_count": null,
      "metadata": {
        "colab": {
          "base_uri": "https://localhost:8080/"
        },
        "id": "I3BG7-E2FgXs",
        "outputId": "f0adbe1d-574c-4002-e978-7777579b5bb3"
      },
      "outputs": [
        {
          "output_type": "execute_result",
          "data": {
            "text/plain": [
              "1.89"
            ]
          },
          "metadata": {},
          "execution_count": 1
        }
      ],
      "source": [
        "# Função Máximo - máximo valor\n",
        "fam = [1.73,1.68,1.71,1.89]\n",
        "\n",
        "max(fam)\n"
      ]
    },
    {
      "cell_type": "code",
      "source": [
        "# Função Round - arrendondar\n",
        "\n",
        "round(1.54,1)\n",
        "\n",
        "round(1.68,2)\n"
      ],
      "metadata": {
        "colab": {
          "base_uri": "https://localhost:8080/"
        },
        "id": "CmR4GdiNGfJl",
        "outputId": "4414ffd9-74b6-411a-e239-8edfd2d6de00"
      },
      "execution_count": null,
      "outputs": [
        {
          "output_type": "execute_result",
          "data": {
            "text/plain": [
              "1.68"
            ]
          },
          "metadata": {},
          "execution_count": 4
        }
      ]
    },
    {
      "cell_type": "code",
      "source": [
        "# Função Help - explicação de outras funções\n",
        "help(round)"
      ],
      "metadata": {
        "colab": {
          "base_uri": "https://localhost:8080/"
        },
        "id": "_1IvqA4-GlM1",
        "outputId": "4682efde-3198-4e9d-e35f-56bc71c24a1c"
      },
      "execution_count": null,
      "outputs": [
        {
          "output_type": "stream",
          "name": "stdout",
          "text": [
            "Help on built-in function round in module builtins:\n",
            "\n",
            "round(number, ndigits=None)\n",
            "    Round a number to a given precision in decimal digits.\n",
            "    \n",
            "    The return value is an integer if ndigits is omitted or None.  Otherwise\n",
            "    the return value has the same type as the number.  ndigits may be negative.\n",
            "\n"
          ]
        }
      ]
    },
    {
      "cell_type": "code",
      "source": [
        "\n",
        "var1 = [1,2,3,4]\n",
        "var2 = True"
      ],
      "metadata": {
        "id": "WNGC0SInHH1-"
      },
      "execution_count": null,
      "outputs": []
    },
    {
      "cell_type": "code",
      "source": [
        "# tipo da lista 1\n",
        "type(var1)"
      ],
      "metadata": {
        "colab": {
          "base_uri": "https://localhost:8080/"
        },
        "id": "PClhKnJGIBj9",
        "outputId": "91a245b8-6274-4220-a3ac-0f7fd3119f22"
      },
      "execution_count": null,
      "outputs": [
        {
          "output_type": "execute_result",
          "data": {
            "text/plain": [
              "list"
            ]
          },
          "metadata": {},
          "execution_count": 8
        }
      ]
    },
    {
      "cell_type": "code",
      "source": [
        "# Função len - quantos elementos possui\n",
        "len(var1)"
      ],
      "metadata": {
        "colab": {
          "base_uri": "https://localhost:8080/"
        },
        "id": "Af50UKM8H-z1",
        "outputId": "8b9c65af-1f28-47e9-fa79-bc1b38bd479e"
      },
      "execution_count": null,
      "outputs": [
        {
          "output_type": "execute_result",
          "data": {
            "text/plain": [
              "4"
            ]
          },
          "metadata": {},
          "execution_count": 7
        }
      ]
    },
    {
      "cell_type": "code",
      "source": [
        "# Modificando var2 em um inteiro\n",
        "out2 = int(var2)\n",
        "print(out2)"
      ],
      "metadata": {
        "colab": {
          "base_uri": "https://localhost:8080/"
        },
        "id": "hbqCLcEbIoYH",
        "outputId": "ee2bb4e4-2357-4cdd-96a4-6a27c911c18c"
      },
      "execution_count": null,
      "outputs": [
        {
          "output_type": "stream",
          "name": "stdout",
          "text": [
            "1\n"
          ]
        }
      ]
    },
    {
      "cell_type": "code",
      "source": [
        "first = [11.25,18.0,20.0]\n",
        "second = [10.75,9.5]\n",
        "#concatenando as listas\n",
        "full = first + second\n",
        "print(full)\n",
        "#ordenando a lista full\n",
        "full_sorted = sorted(full)\n"
      ],
      "metadata": {
        "colab": {
          "base_uri": "https://localhost:8080/"
        },
        "id": "jWloR5xiJnpl",
        "outputId": "08d78f4b-d504-442d-a3d1-170db4ed9baa"
      },
      "execution_count": null,
      "outputs": [
        {
          "output_type": "stream",
          "name": "stdout",
          "text": [
            "[11.25, 18.0, 20.0, 10.75, 9.5]\n"
          ]
        }
      ]
    },
    {
      "cell_type": "code",
      "source": [
        " fam = [\"Joao\",1.35,\"Davi\",1.5,\"Tiago\",1.35,\"Linconl\",1.35,1.57,\"Jorge\"]\n",
        "\n",
        "#Mostrar posição do index\n",
        "fam.index(\"Tiago\")\n",
        "#Adicionar um elemento\n",
        "fam.append('me')\n",
        "fam\n"
      ],
      "metadata": {
        "colab": {
          "base_uri": "https://localhost:8080/"
        },
        "id": "GZ3hkWYFMu_G",
        "outputId": "49db7153-b2ba-4708-8799-f27531f476e9"
      },
      "execution_count": null,
      "outputs": [
        {
          "output_type": "execute_result",
          "data": {
            "text/plain": [
              "['Joao',\n",
              " 1.35,\n",
              " 'Davi',\n",
              " 1.5,\n",
              " 'Tiago',\n",
              " 1.35,\n",
              " 'Linconl',\n",
              " 1.35,\n",
              " 1.57,\n",
              " 'Jorge',\n",
              " 'me']"
            ]
          },
          "metadata": {},
          "execution_count": 31
        }
      ]
    },
    {
      "cell_type": "code",
      "source": [
        "#Contabilizar repetições\n",
        "fam.count(1.35)\n"
      ],
      "metadata": {
        "colab": {
          "base_uri": "https://localhost:8080/"
        },
        "id": "RVH-qI_BNY__",
        "outputId": "1669ce7c-1456-4246-ada8-683774f4e304"
      },
      "execution_count": null,
      "outputs": [
        {
          "output_type": "execute_result",
          "data": {
            "text/plain": [
              "3"
            ]
          },
          "metadata": {},
          "execution_count": 24
        }
      ]
    },
    {
      "cell_type": "code",
      "source": [
        "sister = \"yasmin\"\n",
        "# Corrigindo letra minuscula por maiuscula\n",
        "sister.capitalize()\n",
        "\n",
        "\n",
        "# Corrigindo a escrita da string\n",
        "sister.replace(\"i\",\"y\")\n"
      ],
      "metadata": {
        "colab": {
          "base_uri": "https://localhost:8080/",
          "height": 35
        },
        "id": "2-rT_91XOuu2",
        "outputId": "e630b41d-a71c-4d30-b0af-9ced152d9aa6"
      },
      "execution_count": null,
      "outputs": [
        {
          "output_type": "execute_result",
          "data": {
            "text/plain": [
              "'yasmyn'"
            ],
            "application/vnd.google.colaboratory.intrinsic+json": {
              "type": "string"
            }
          },
          "metadata": {},
          "execution_count": 35
        }
      ]
    },
    {
      "cell_type": "code",
      "source": [
        "place = \"poolhouse\"\n",
        "print(place)\n",
        "\n",
        "#modificando todas as letras por maiuscula\n",
        "place_up = place.upper()\n",
        "print(place_up)\n"
      ],
      "metadata": {
        "colab": {
          "base_uri": "https://localhost:8080/"
        },
        "id": "N07C1iphQj9_",
        "outputId": "38468dfb-e094-4cbb-8538-9b97222cbac6"
      },
      "execution_count": null,
      "outputs": [
        {
          "output_type": "stream",
          "name": "stdout",
          "text": [
            "poolhouse\n",
            "POOLHOUSE\n"
          ]
        }
      ]
    },
    {
      "cell_type": "code",
      "source": [
        "#aplicando count para contabilizar o número de letras o\n",
        "place.count(\"o\")"
      ],
      "metadata": {
        "colab": {
          "base_uri": "https://localhost:8080/"
        },
        "id": "_lBwkjHZRLAO",
        "outputId": "2e85ec14-78fe-4b0f-84f8-4ba67f16fed1"
      },
      "execution_count": null,
      "outputs": [
        {
          "output_type": "execute_result",
          "data": {
            "text/plain": [
              "3"
            ]
          },
          "metadata": {},
          "execution_count": 40
        }
      ]
    }
  ]
}