{
  "nbformat": 4,
  "nbformat_minor": 0,
  "metadata": {
    "colab": {
      "provenance": [],
      "authorship_tag": "ABX9TyMqST7AiJ8FhGRJOVA5zotX",
      "include_colab_link": true
    },
    "kernelspec": {
      "name": "python3",
      "display_name": "Python 3"
    },
    "language_info": {
      "name": "python"
    }
  },
  "cells": [
    {
      "cell_type": "markdown",
      "metadata": {
        "id": "view-in-github",
        "colab_type": "text"
      },
      "source": [
        "<a href=\"https://colab.research.google.com/github/jdaavi/Programa-o-CD-UFC-/blob/main/Aula_07_programa%C3%A7%C3%A3o.ipynb\" target=\"_parent\"><img src=\"https://colab.research.google.com/assets/colab-badge.svg\" alt=\"Open In Colab\"/></a>"
      ]
    },
    {
      "cell_type": "code",
      "execution_count": null,
      "metadata": {
        "colab": {
          "base_uri": "https://localhost:8080/"
        },
        "id": "Dde2xvMFDIKi",
        "outputId": "efdbcd5e-3977-4de0-b613-1e698e839fea"
      },
      "outputs": [
        {
          "output_type": "execute_result",
          "data": {
            "text/plain": [
              "array([[ 1.73,  1.68,  1.71,  1.89,  1.79],\n",
              "       [65.4 , 59.2 , 63.6 , 88.4 , 68.7 ]])"
            ]
          },
          "metadata": {},
          "execution_count": 2
        }
      ],
      "source": [
        "#Função numpy\n",
        "import numpy as np\n",
        "np_2d = np.array([[1.73,1.68,1.71,1.89,1.79],\n",
        "              [65.4,59.2,63.6,88.4,68.7]])\n",
        "np_2d"
      ]
    },
    {
      "cell_type": "code",
      "source": [
        "#Função shape, para descobrir o número de linhas e colunas\n",
        "np_2d.shape"
      ],
      "metadata": {
        "colab": {
          "base_uri": "https://localhost:8080/"
        },
        "id": "YQPBpJetF-qG",
        "outputId": "796071c2-a480-4ef0-d8ed-458d41ead972"
      },
      "execution_count": null,
      "outputs": [
        {
          "output_type": "execute_result",
          "data": {
            "text/plain": [
              "(2, 5)"
            ]
          },
          "metadata": {},
          "execution_count": 3
        }
      ]
    },
    {
      "cell_type": "code",
      "source": [
        " np.array([[1.73,1.68,1.71,1.89,1.79],\n",
        "              [65.4,59.2,63.6,88.4,\"68.7\"]])"
      ],
      "metadata": {
        "colab": {
          "base_uri": "https://localhost:8080/"
        },
        "id": "cqTLfdTzGiMN",
        "outputId": "d6427b76-352f-4809-a110-282b427a8f6e"
      },
      "execution_count": null,
      "outputs": [
        {
          "output_type": "execute_result",
          "data": {
            "text/plain": [
              "array([['1.73', '1.68', '1.71', '1.89', '1.79'],\n",
              "       ['65.4', '59.2', '63.6', '88.4', '68.7']], dtype='<U32')"
            ]
          },
          "metadata": {},
          "execution_count": 5
        }
      ]
    },
    {
      "cell_type": "code",
      "source": [
        "#Novo array de 3 linhas e 5 colunas\n",
        "np_3d = np.array([[1.73,1.68,1.71,1.89,1.79],\n",
        "                  [1,2,3,4,5],[2.0,2.1,2.3,2.4,2.5]])\n",
        "np_3d.shape\n",
        "\n",
        "#Localizando o termo 3 da segunda linha\n",
        "print(np_3d[0,2])\n",
        "#localizando todos os termos da terceira linha\n",
        "print(np_3d[2, :])\n",
        "#localizando o segundo e terceiro termo de todas as linhas\n",
        "print(np_3d[: , 1:3 ])"
      ],
      "metadata": {
        "colab": {
          "base_uri": "https://localhost:8080/"
        },
        "id": "62dYXEYCHJ2-",
        "outputId": "93775628-dc64-49d3-e2f8-ef813bd6d400"
      },
      "execution_count": null,
      "outputs": [
        {
          "output_type": "stream",
          "name": "stdout",
          "text": [
            "1.71\n",
            "[2.  2.1 2.3 2.4 2.5]\n",
            "[[1.68 1.71]\n",
            " [2.   3.  ]\n",
            " [2.1  2.3 ]]\n"
          ]
        }
      ]
    },
    {
      "cell_type": "code",
      "source": [
        "#Novo array de 3 linhas e 3 colunas\n",
        "np_4d = np.array([[3,4,5],[6,7,8],[9,10,11]])\n",
        "np_4d.shape"
      ],
      "metadata": {
        "colab": {
          "base_uri": "https://localhost:8080/"
        },
        "id": "paEzGzpdIyTF",
        "outputId": "f4f6b43a-e553-48c8-bfcb-72da3637b2fc"
      },
      "execution_count": null,
      "outputs": [
        {
          "output_type": "execute_result",
          "data": {
            "text/plain": [
              "(3, 3)"
            ]
          },
          "metadata": {},
          "execution_count": 8
        }
      ]
    },
    {
      "cell_type": "code",
      "source": [
        "#Lista baseball - Questões\n",
        "Baseball = [180,215,210,210,188,176,209,208]\n",
        "import numpy as np\n",
        "\n",
        "#convertendo a lista Baseball\n",
        "np_baseball = np.array(Baseball)\n",
        "print(np_baseball)\n",
        "\n",
        "#Dimensões da nova lista baseball\n",
        "np_baseball.shape"
      ],
      "metadata": {
        "colab": {
          "base_uri": "https://localhost:8080/"
        },
        "id": "eTLxhgAmLG4I",
        "outputId": "1d0a581d-5585-4ef4-c22a-878d23811fc1"
      },
      "execution_count": null,
      "outputs": [
        {
          "output_type": "stream",
          "name": "stdout",
          "text": [
            "[180 215 210 210 188 176 209 208]\n"
          ]
        },
        {
          "output_type": "execute_result",
          "data": {
            "text/plain": [
              "(8,)"
            ]
          },
          "metadata": {},
          "execution_count": 22
        }
      ]
    },
    {
      "cell_type": "code",
      "source": [
        "#Questões \n",
        "import random as rd\n",
        "import numpy as np\n",
        "\n",
        "#Geração de números entre 150 e 209\n",
        "height = range(150,210)\n",
        "#Geração de números entre 50 e 149\n",
        "weight = range(50,149)\n",
        "#amostra randomica de height\n",
        "height = rd.sample(height,20)\n",
        "print(height)\n",
        "#amostra randomica de weight\n",
        "weight = rd.sample(weight,20)\n",
        "print(weight)\n",
        "#convertendo height para array e normalizar o multiplicador por 0.01\n",
        "height_array = np.array(height)*0.01\n",
        "print(height_array)\n",
        "print(height_array)\n",
        "#convertendo weight em array\n",
        "weight_array = np.array(weight)\n",
        "print(weight_array)\n",
        "#\n",
        "bmi = weight_array/height_array**2"
      ],
      "metadata": {
        "colab": {
          "base_uri": "https://localhost:8080/"
        },
        "id": "ngooQTyKMUie",
        "outputId": "ad84f4d4-8782-4bf2-f0b7-ff1b697e15be"
      },
      "execution_count": null,
      "outputs": [
        {
          "output_type": "stream",
          "name": "stdout",
          "text": [
            "[195, 185, 192, 196, 206, 194, 208, 193, 158, 202, 191, 154, 207, 167, 176, 164, 198, 189, 188, 174]\n",
            "[134, 128, 98, 106, 139, 62, 69, 140, 55, 51, 74, 108, 75, 132, 112, 103, 70, 82, 113, 127]\n",
            "[1.95 1.85 1.92 1.96 2.06 1.94 2.08 1.93 1.58 2.02 1.91 1.54 2.07 1.67\n",
            " 1.76 1.64 1.98 1.89 1.88 1.74]\n",
            "[1.95 1.85 1.92 1.96 2.06 1.94 2.08 1.93 1.58 2.02 1.91 1.54 2.07 1.67\n",
            " 1.76 1.64 1.98 1.89 1.88 1.74]\n",
            "[134 128  98 106 139  62  69 140  55  51  74 108  75 132 112 103  70  82\n",
            " 113 127]\n"
          ]
        }
      ]
    },
    {
      "cell_type": "code",
      "source": [
        "#Fórmula do BMI\n",
        "bmi = weight_array/height_array**2\n",
        "print(bmi)\n",
        "#Verificação onde BMI é menor que 21 e exibição\n",
        "light = bmi < 21\n",
        "print(light)"
      ],
      "metadata": {
        "colab": {
          "base_uri": "https://localhost:8080/"
        },
        "id": "Bl3DlP3KQkXC",
        "outputId": "9d5a1dce-bf8b-4143-d8d2-c68dbea1cd7f"
      },
      "execution_count": null,
      "outputs": [
        {
          "output_type": "stream",
          "name": "stdout",
          "text": [
            "[35.2399737  37.39956172 26.58420139 27.59266972 32.75520784 16.47358912\n",
            " 15.94859467 37.58490161 22.03172568 12.49877463 20.28453167 45.53887671\n",
            " 17.50332563 47.33048872 36.15702479 38.29565735 17.85532089 22.95568433\n",
            " 31.97148031 41.9474171 ]\n",
            "[False False False False False  True  True False False  True  True False\n",
            "  True False False False  True False False False]\n",
            "[ 55  51  74 108  75 132 112]\n"
          ]
        }
      ]
    },
    {
      "cell_type": "code",
      "source": [
        "#Questões\n",
        "baseball = [[180,78.4],\n",
        "            [215,182.7],\n",
        "            [210,98.5],\n",
        "            [188,75.2]]\n",
        "# importando numpy\n",
        "import numpy as np\n",
        "           \n",
        "#criando np_baseball\n",
        "np_baseball = np.array(baseball)\n",
        "np_baseball\n",
        "\n",
        "#Print da terceira linha de np_baseball\n",
        "print(np_baseball[2, :])\n",
        "\n",
        "#Nova variável que recebe a segunda linha\n",
        "np_weight_lb = np_baseball[:, 1]\n",
        "print(np_weight_lb)\n",
        "\n",
        "#Print da primeira coluna, da segunda lista de np_baseball\n",
        "print(np_baseball[1,0])\n",
        "\n",
        "#Tirando a mediana\n",
        "np.median(np_baseball[: ,0])"
      ],
      "metadata": {
        "colab": {
          "base_uri": "https://localhost:8080/"
        },
        "id": "kTxGerKYUvjz",
        "outputId": "9ee00ff6-53e6-477b-a9ea-a05dd9114124"
      },
      "execution_count": 66,
      "outputs": [
        {
          "output_type": "stream",
          "name": "stdout",
          "text": [
            "[210.   98.5]\n",
            "[ 78.4 182.7  98.5  75.2]\n",
            "215.0\n"
          ]
        },
        {
          "output_type": "execute_result",
          "data": {
            "text/plain": [
              "199.0"
            ]
          },
          "metadata": {},
          "execution_count": 66
        }
      ]
    }
  ]
}