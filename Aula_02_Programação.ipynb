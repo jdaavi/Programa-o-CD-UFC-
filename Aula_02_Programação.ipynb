{
  "nbformat": 4,
  "nbformat_minor": 0,
  "metadata": {
    "colab": {
      "provenance": [],
      "authorship_tag": "ABX9TyM+PJK58LPPNAb632q8aLbT",
      "include_colab_link": true
    },
    "kernelspec": {
      "name": "python3",
      "display_name": "Python 3"
    },
    "language_info": {
      "name": "python"
    }
  },
  "cells": [
    {
      "cell_type": "markdown",
      "metadata": {
        "id": "view-in-github",
        "colab_type": "text"
      },
      "source": [
        "<a href=\"https://colab.research.google.com/github/jdaavi/Programa-o-CD-UFC-/blob/main/Aula_02_Programa%C3%A7%C3%A3o.ipynb\" target=\"_parent\"><img src=\"https://colab.research.google.com/assets/colab-badge.svg\" alt=\"Open In Colab\"/></a>"
      ]
    },
    {
      "cell_type": "code",
      "execution_count": 1,
      "metadata": {
        "colab": {
          "base_uri": "https://localhost:8080/"
        },
        "id": "qG_GUk0BXZDe",
        "outputId": "c169d6e2-6f89-458c-a03e-0a0030eada58"
      },
      "outputs": [
        {
          "output_type": "execute_result",
          "data": {
            "text/plain": [
              "[1.73, 1.68, 1.71, 1.89]"
            ]
          },
          "metadata": {},
          "execution_count": 1
        }
      ],
      "source": [
        "#Aprendendo sobre listas\n",
        "fam = [1.73,1.68,1.71,1.89]\n",
        "fam"
      ]
    },
    {
      "cell_type": "code",
      "source": [
        "fam = ['Joao',1.73,'Pedro',1.68,'mae',1.71,'pai',1.89]\n",
        "fam"
      ],
      "metadata": {
        "colab": {
          "base_uri": "https://localhost:8080/"
        },
        "id": "OyZgIZxQXj-M",
        "outputId": "e32a3fec-f415-48d0-fcb1-9ede32291213"
      },
      "execution_count": 2,
      "outputs": [
        {
          "output_type": "execute_result",
          "data": {
            "text/plain": [
              "['Joao', 1.73, 'Pedro', 1.68, 'mae', 1.71, 'pai', 1.89]"
            ]
          },
          "metadata": {},
          "execution_count": 2
        }
      ]
    },
    {
      "cell_type": "code",
      "source": [
        "#Lista de listas\n",
        "fam = [['Joao',1.73],['Pedro',1.68],['mae',1.71],['pai',1.89]]\n",
        "print(fam)\n",
        "#Tipo\n",
        "type(fam)"
      ],
      "metadata": {
        "colab": {
          "base_uri": "https://localhost:8080/"
        },
        "id": "NaglbmmAXoK0",
        "outputId": "ac345c20-05dd-47bb-efd5-20156544fcce"
      },
      "execution_count": 5,
      "outputs": [
        {
          "output_type": "stream",
          "name": "stdout",
          "text": [
            "[['Joao', 1.73], ['Pedro', 1.68], ['mae', 1.71], ['pai', 1.89]]\n"
          ]
        },
        {
          "output_type": "execute_result",
          "data": {
            "text/plain": [
              "list"
            ]
          },
          "metadata": {},
          "execution_count": 5
        }
      ]
    },
    {
      "cell_type": "code",
      "source": [
        "# lista simples com 4 elementos inteiros\n",
        "[1,3,4,2]\n",
        "# lista de listas , comtém 2 listas com 3 inteiros\n",
        "[[1,2,3],[4,5,7]]\n",
        "# lista com operações, primeira é soma, segunda é uma string repetida 5 vezes, e um inteiro\n",
        "[1+2,\"a\"*5,3]"
      ],
      "metadata": {
        "colab": {
          "base_uri": "https://localhost:8080/"
        },
        "id": "lAgXOBTlYQ17",
        "outputId": "f768c821-4804-4884-b01b-0340b1f894f9"
      },
      "execution_count": 6,
      "outputs": [
        {
          "output_type": "execute_result",
          "data": {
            "text/plain": [
              "[3, 'aaaaa', 3]"
            ]
          },
          "metadata": {},
          "execution_count": 6
        }
      ]
    },
    {
      "cell_type": "code",
      "source": [
        "#Lista House\n",
        "hall = 14.0\n",
        "kitchen = 18.0\n",
        "living = 20.0\n",
        "bedroom = 18.75\n",
        "bathroom = 9.5\n",
        "\n",
        "house = [[\"hallway\",hall],[\"kitchen\",kitchen],[\"living\",living],[\"bedroom\",bedroom],[\"bathroom\",bathroom]]\n",
        "print(house)\n",
        "#acessando a segunda lista contida na lista house\n",
        "house[2]"
      ],
      "metadata": {
        "colab": {
          "base_uri": "https://localhost:8080/"
        },
        "id": "3KajEcU0YVyJ",
        "outputId": "afd74553-ab41-4718-c49f-72debfa4125e"
      },
      "execution_count": 8,
      "outputs": [
        {
          "output_type": "stream",
          "name": "stdout",
          "text": [
            "[['hallway', 14.0], ['kitchen', 18.0], ['living', 20.0], ['bedroom', 18.75], ['bathroom', 9.5]]\n"
          ]
        },
        {
          "output_type": "execute_result",
          "data": {
            "text/plain": [
              "['living', 20.0]"
            ]
          },
          "metadata": {},
          "execution_count": 8
        }
      ]
    },
    {
      "cell_type": "code",
      "source": [
        "#printar o tipo da lista house\n",
        "print(type(house))"
      ],
      "metadata": {
        "colab": {
          "base_uri": "https://localhost:8080/"
        },
        "id": "qe41KwpzZmTV",
        "outputId": "7231d8b4-ce49-44aa-e049-4bf9e0b5aa71"
      },
      "execution_count": 9,
      "outputs": [
        {
          "output_type": "stream",
          "name": "stdout",
          "text": [
            "<class 'list'>\n"
          ]
        }
      ]
    }
  ]
}