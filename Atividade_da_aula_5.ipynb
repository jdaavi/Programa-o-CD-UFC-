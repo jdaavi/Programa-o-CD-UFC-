{
  "nbformat": 4,
  "nbformat_minor": 0,
  "metadata": {
    "colab": {
      "provenance": [],
      "authorship_tag": "ABX9TyMpaYA8SbMxl3Q9WkvEgWOf",
      "include_colab_link": true
    },
    "kernelspec": {
      "name": "python3",
      "display_name": "Python 3"
    },
    "language_info": {
      "name": "python"
    }
  },
  "cells": [
    {
      "cell_type": "markdown",
      "metadata": {
        "id": "view-in-github",
        "colab_type": "text"
      },
      "source": [
        "<a href=\"https://colab.research.google.com/github/jdaavi/Programa-o-CD-UFC-/blob/main/Atividade_da_aula_5.ipynb\" target=\"_parent\"><img src=\"https://colab.research.google.com/assets/colab-badge.svg\" alt=\"Open In Colab\"/></a>"
      ]
    },
    {
      "cell_type": "code",
      "execution_count": null,
      "metadata": {
        "id": "tk201541WsOS"
      },
      "outputs": [],
      "source": [
        "#Atividade de casa\n",
        "areas = [11.25,18.0,20.0,10.75,9.5]\n",
        "\n",
        "#Print o index do elemento 20.0\n",
        "print(areas.index(20.0))\n",
        "#número de vezes que 9.5 aparece na lista\n",
        "print(areas.count(9.5))\n",
        "#Incluindo valores\n",
        "areas.append(24.5)\n",
        "areas.append(15.25)\n",
        "print(areas)\n",
        "#trocando a ordem\n",
        "areas.reverse()\n",
        "areas"
      ]
    }
  ]
}